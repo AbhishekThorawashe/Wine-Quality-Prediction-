{
 "cells": [
  {
   "cell_type": "code",
   "execution_count": 1,
   "metadata": {},
   "outputs": [],
   "source": [
    "# import necessary library \n",
    "import warnings\n",
    "warnings.filterwarnings('ignore')\n",
    "import pandas as pd \n",
    "import numpy as np\n",
    "import matplotlib.pyplot as plt\n"
   ]
  },
  {
   "cell_type": "code",
   "execution_count": 2,
   "metadata": {},
   "outputs": [
    {
     "data": {
      "text/html": [
       "<div>\n",
       "<style scoped>\n",
       "    .dataframe tbody tr th:only-of-type {\n",
       "        vertical-align: middle;\n",
       "    }\n",
       "\n",
       "    .dataframe tbody tr th {\n",
       "        vertical-align: top;\n",
       "    }\n",
       "\n",
       "    .dataframe thead th {\n",
       "        text-align: right;\n",
       "    }\n",
       "</style>\n",
       "<table border=\"1\" class=\"dataframe\">\n",
       "  <thead>\n",
       "    <tr style=\"text-align: right;\">\n",
       "      <th></th>\n",
       "      <th>fixed acidity</th>\n",
       "      <th>volatile acidity</th>\n",
       "      <th>citric acid</th>\n",
       "      <th>residual sugar</th>\n",
       "      <th>chlorides</th>\n",
       "      <th>free sulfur dioxide</th>\n",
       "      <th>total sulfur dioxide</th>\n",
       "      <th>density</th>\n",
       "      <th>pH</th>\n",
       "      <th>sulphates</th>\n",
       "      <th>alcohol</th>\n",
       "      <th>quality</th>\n",
       "    </tr>\n",
       "  </thead>\n",
       "  <tbody>\n",
       "    <tr>\n",
       "      <th>0</th>\n",
       "      <td>7.4</td>\n",
       "      <td>0.70</td>\n",
       "      <td>0.00</td>\n",
       "      <td>1.9</td>\n",
       "      <td>0.076</td>\n",
       "      <td>11.0</td>\n",
       "      <td>34.0</td>\n",
       "      <td>0.9978</td>\n",
       "      <td>3.51</td>\n",
       "      <td>0.56</td>\n",
       "      <td>9.4</td>\n",
       "      <td>5</td>\n",
       "    </tr>\n",
       "    <tr>\n",
       "      <th>1</th>\n",
       "      <td>7.8</td>\n",
       "      <td>0.88</td>\n",
       "      <td>0.00</td>\n",
       "      <td>2.6</td>\n",
       "      <td>0.098</td>\n",
       "      <td>25.0</td>\n",
       "      <td>67.0</td>\n",
       "      <td>0.9968</td>\n",
       "      <td>3.20</td>\n",
       "      <td>0.68</td>\n",
       "      <td>9.8</td>\n",
       "      <td>5</td>\n",
       "    </tr>\n",
       "    <tr>\n",
       "      <th>2</th>\n",
       "      <td>7.8</td>\n",
       "      <td>0.76</td>\n",
       "      <td>0.04</td>\n",
       "      <td>2.3</td>\n",
       "      <td>0.092</td>\n",
       "      <td>15.0</td>\n",
       "      <td>54.0</td>\n",
       "      <td>0.9970</td>\n",
       "      <td>3.26</td>\n",
       "      <td>0.65</td>\n",
       "      <td>9.8</td>\n",
       "      <td>5</td>\n",
       "    </tr>\n",
       "    <tr>\n",
       "      <th>3</th>\n",
       "      <td>11.2</td>\n",
       "      <td>0.28</td>\n",
       "      <td>0.56</td>\n",
       "      <td>1.9</td>\n",
       "      <td>0.075</td>\n",
       "      <td>17.0</td>\n",
       "      <td>60.0</td>\n",
       "      <td>0.9980</td>\n",
       "      <td>3.16</td>\n",
       "      <td>0.58</td>\n",
       "      <td>9.8</td>\n",
       "      <td>6</td>\n",
       "    </tr>\n",
       "    <tr>\n",
       "      <th>4</th>\n",
       "      <td>7.4</td>\n",
       "      <td>0.70</td>\n",
       "      <td>0.00</td>\n",
       "      <td>1.9</td>\n",
       "      <td>0.076</td>\n",
       "      <td>11.0</td>\n",
       "      <td>34.0</td>\n",
       "      <td>0.9978</td>\n",
       "      <td>3.51</td>\n",
       "      <td>0.56</td>\n",
       "      <td>9.4</td>\n",
       "      <td>5</td>\n",
       "    </tr>\n",
       "  </tbody>\n",
       "</table>\n",
       "</div>"
      ],
      "text/plain": [
       "   fixed acidity  volatile acidity  citric acid  residual sugar  chlorides  \\\n",
       "0            7.4              0.70         0.00             1.9      0.076   \n",
       "1            7.8              0.88         0.00             2.6      0.098   \n",
       "2            7.8              0.76         0.04             2.3      0.092   \n",
       "3           11.2              0.28         0.56             1.9      0.075   \n",
       "4            7.4              0.70         0.00             1.9      0.076   \n",
       "\n",
       "   free sulfur dioxide  total sulfur dioxide  density    pH  sulphates  \\\n",
       "0                 11.0                  34.0   0.9978  3.51       0.56   \n",
       "1                 25.0                  67.0   0.9968  3.20       0.68   \n",
       "2                 15.0                  54.0   0.9970  3.26       0.65   \n",
       "3                 17.0                  60.0   0.9980  3.16       0.58   \n",
       "4                 11.0                  34.0   0.9978  3.51       0.56   \n",
       "\n",
       "   alcohol  quality  \n",
       "0      9.4        5  \n",
       "1      9.8        5  \n",
       "2      9.8        5  \n",
       "3      9.8        6  \n",
       "4      9.4        5  "
      ]
     },
     "execution_count": 2,
     "metadata": {},
     "output_type": "execute_result"
    }
   ],
   "source": [
    "# import data \n",
    "df= pd.read_csv(\"winequality_red.csv\")\n",
    "df.head()"
   ]
  },
  {
   "cell_type": "code",
   "execution_count": 3,
   "metadata": {},
   "outputs": [
    {
     "data": {
      "text/plain": [
       "(1599, 12)"
      ]
     },
     "execution_count": 3,
     "metadata": {},
     "output_type": "execute_result"
    }
   ],
   "source": [
    "df.shape"
   ]
  },
  {
   "cell_type": "code",
   "execution_count": 4,
   "metadata": {},
   "outputs": [
    {
     "name": "stdout",
     "output_type": "stream",
     "text": [
      "<class 'pandas.core.frame.DataFrame'>\n",
      "RangeIndex: 1599 entries, 0 to 1598\n",
      "Data columns (total 12 columns):\n",
      " #   Column                Non-Null Count  Dtype  \n",
      "---  ------                --------------  -----  \n",
      " 0   fixed acidity         1599 non-null   float64\n",
      " 1   volatile acidity      1599 non-null   float64\n",
      " 2   citric acid           1599 non-null   float64\n",
      " 3   residual sugar        1599 non-null   float64\n",
      " 4   chlorides             1599 non-null   float64\n",
      " 5   free sulfur dioxide   1599 non-null   float64\n",
      " 6   total sulfur dioxide  1599 non-null   float64\n",
      " 7   density               1599 non-null   float64\n",
      " 8   pH                    1599 non-null   float64\n",
      " 9   sulphates             1599 non-null   float64\n",
      " 10  alcohol               1599 non-null   float64\n",
      " 11  quality               1599 non-null   int64  \n",
      "dtypes: float64(11), int64(1)\n",
      "memory usage: 150.0 KB\n"
     ]
    }
   ],
   "source": [
    "df.info()"
   ]
  },
  {
   "cell_type": "code",
   "execution_count": 5,
   "metadata": {},
   "outputs": [
    {
     "data": {
      "text/html": [
       "<div>\n",
       "<style scoped>\n",
       "    .dataframe tbody tr th:only-of-type {\n",
       "        vertical-align: middle;\n",
       "    }\n",
       "\n",
       "    .dataframe tbody tr th {\n",
       "        vertical-align: top;\n",
       "    }\n",
       "\n",
       "    .dataframe thead th {\n",
       "        text-align: right;\n",
       "    }\n",
       "</style>\n",
       "<table border=\"1\" class=\"dataframe\">\n",
       "  <thead>\n",
       "    <tr style=\"text-align: right;\">\n",
       "      <th></th>\n",
       "      <th>fixed acidity</th>\n",
       "      <th>volatile acidity</th>\n",
       "      <th>citric acid</th>\n",
       "      <th>residual sugar</th>\n",
       "      <th>chlorides</th>\n",
       "      <th>free sulfur dioxide</th>\n",
       "      <th>total sulfur dioxide</th>\n",
       "      <th>density</th>\n",
       "      <th>pH</th>\n",
       "      <th>sulphates</th>\n",
       "      <th>alcohol</th>\n",
       "      <th>quality</th>\n",
       "    </tr>\n",
       "  </thead>\n",
       "  <tbody>\n",
       "    <tr>\n",
       "      <th>count</th>\n",
       "      <td>1599.000000</td>\n",
       "      <td>1599.000000</td>\n",
       "      <td>1599.000000</td>\n",
       "      <td>1599.000000</td>\n",
       "      <td>1599.000000</td>\n",
       "      <td>1599.000000</td>\n",
       "      <td>1599.000000</td>\n",
       "      <td>1599.000000</td>\n",
       "      <td>1599.000000</td>\n",
       "      <td>1599.000000</td>\n",
       "      <td>1599.000000</td>\n",
       "      <td>1599.000000</td>\n",
       "    </tr>\n",
       "    <tr>\n",
       "      <th>mean</th>\n",
       "      <td>8.319637</td>\n",
       "      <td>0.527821</td>\n",
       "      <td>0.270976</td>\n",
       "      <td>2.538806</td>\n",
       "      <td>0.087467</td>\n",
       "      <td>15.874922</td>\n",
       "      <td>46.467792</td>\n",
       "      <td>0.996747</td>\n",
       "      <td>3.311113</td>\n",
       "      <td>0.658149</td>\n",
       "      <td>10.422983</td>\n",
       "      <td>5.636023</td>\n",
       "    </tr>\n",
       "    <tr>\n",
       "      <th>std</th>\n",
       "      <td>1.741096</td>\n",
       "      <td>0.179060</td>\n",
       "      <td>0.194801</td>\n",
       "      <td>1.409928</td>\n",
       "      <td>0.047065</td>\n",
       "      <td>10.460157</td>\n",
       "      <td>32.895324</td>\n",
       "      <td>0.001887</td>\n",
       "      <td>0.154386</td>\n",
       "      <td>0.169507</td>\n",
       "      <td>1.065668</td>\n",
       "      <td>0.807569</td>\n",
       "    </tr>\n",
       "    <tr>\n",
       "      <th>min</th>\n",
       "      <td>4.600000</td>\n",
       "      <td>0.120000</td>\n",
       "      <td>0.000000</td>\n",
       "      <td>0.900000</td>\n",
       "      <td>0.012000</td>\n",
       "      <td>1.000000</td>\n",
       "      <td>6.000000</td>\n",
       "      <td>0.990070</td>\n",
       "      <td>2.740000</td>\n",
       "      <td>0.330000</td>\n",
       "      <td>8.400000</td>\n",
       "      <td>3.000000</td>\n",
       "    </tr>\n",
       "    <tr>\n",
       "      <th>25%</th>\n",
       "      <td>7.100000</td>\n",
       "      <td>0.390000</td>\n",
       "      <td>0.090000</td>\n",
       "      <td>1.900000</td>\n",
       "      <td>0.070000</td>\n",
       "      <td>7.000000</td>\n",
       "      <td>22.000000</td>\n",
       "      <td>0.995600</td>\n",
       "      <td>3.210000</td>\n",
       "      <td>0.550000</td>\n",
       "      <td>9.500000</td>\n",
       "      <td>5.000000</td>\n",
       "    </tr>\n",
       "    <tr>\n",
       "      <th>50%</th>\n",
       "      <td>7.900000</td>\n",
       "      <td>0.520000</td>\n",
       "      <td>0.260000</td>\n",
       "      <td>2.200000</td>\n",
       "      <td>0.079000</td>\n",
       "      <td>14.000000</td>\n",
       "      <td>38.000000</td>\n",
       "      <td>0.996750</td>\n",
       "      <td>3.310000</td>\n",
       "      <td>0.620000</td>\n",
       "      <td>10.200000</td>\n",
       "      <td>6.000000</td>\n",
       "    </tr>\n",
       "    <tr>\n",
       "      <th>75%</th>\n",
       "      <td>9.200000</td>\n",
       "      <td>0.640000</td>\n",
       "      <td>0.420000</td>\n",
       "      <td>2.600000</td>\n",
       "      <td>0.090000</td>\n",
       "      <td>21.000000</td>\n",
       "      <td>62.000000</td>\n",
       "      <td>0.997835</td>\n",
       "      <td>3.400000</td>\n",
       "      <td>0.730000</td>\n",
       "      <td>11.100000</td>\n",
       "      <td>6.000000</td>\n",
       "    </tr>\n",
       "    <tr>\n",
       "      <th>max</th>\n",
       "      <td>15.900000</td>\n",
       "      <td>1.580000</td>\n",
       "      <td>1.000000</td>\n",
       "      <td>15.500000</td>\n",
       "      <td>0.611000</td>\n",
       "      <td>72.000000</td>\n",
       "      <td>289.000000</td>\n",
       "      <td>1.003690</td>\n",
       "      <td>4.010000</td>\n",
       "      <td>2.000000</td>\n",
       "      <td>14.900000</td>\n",
       "      <td>8.000000</td>\n",
       "    </tr>\n",
       "  </tbody>\n",
       "</table>\n",
       "</div>"
      ],
      "text/plain": [
       "       fixed acidity  volatile acidity  citric acid  residual sugar  \\\n",
       "count    1599.000000       1599.000000  1599.000000     1599.000000   \n",
       "mean        8.319637          0.527821     0.270976        2.538806   \n",
       "std         1.741096          0.179060     0.194801        1.409928   \n",
       "min         4.600000          0.120000     0.000000        0.900000   \n",
       "25%         7.100000          0.390000     0.090000        1.900000   \n",
       "50%         7.900000          0.520000     0.260000        2.200000   \n",
       "75%         9.200000          0.640000     0.420000        2.600000   \n",
       "max        15.900000          1.580000     1.000000       15.500000   \n",
       "\n",
       "         chlorides  free sulfur dioxide  total sulfur dioxide      density  \\\n",
       "count  1599.000000          1599.000000           1599.000000  1599.000000   \n",
       "mean      0.087467            15.874922             46.467792     0.996747   \n",
       "std       0.047065            10.460157             32.895324     0.001887   \n",
       "min       0.012000             1.000000              6.000000     0.990070   \n",
       "25%       0.070000             7.000000             22.000000     0.995600   \n",
       "50%       0.079000            14.000000             38.000000     0.996750   \n",
       "75%       0.090000            21.000000             62.000000     0.997835   \n",
       "max       0.611000            72.000000            289.000000     1.003690   \n",
       "\n",
       "                pH    sulphates      alcohol      quality  \n",
       "count  1599.000000  1599.000000  1599.000000  1599.000000  \n",
       "mean      3.311113     0.658149    10.422983     5.636023  \n",
       "std       0.154386     0.169507     1.065668     0.807569  \n",
       "min       2.740000     0.330000     8.400000     3.000000  \n",
       "25%       3.210000     0.550000     9.500000     5.000000  \n",
       "50%       3.310000     0.620000    10.200000     6.000000  \n",
       "75%       3.400000     0.730000    11.100000     6.000000  \n",
       "max       4.010000     2.000000    14.900000     8.000000  "
      ]
     },
     "execution_count": 5,
     "metadata": {},
     "output_type": "execute_result"
    }
   ],
   "source": [
    "df.describe()"
   ]
  },
  {
   "cell_type": "markdown",
   "metadata": {},
   "source": [
    "# Preprocessing The Data"
   ]
  },
  {
   "cell_type": "code",
   "execution_count": 6,
   "metadata": {},
   "outputs": [
    {
     "data": {
      "text/plain": [
       "fixed acidity           0\n",
       "volatile acidity        0\n",
       "citric acid             0\n",
       "residual sugar          0\n",
       "chlorides               0\n",
       "free sulfur dioxide     0\n",
       "total sulfur dioxide    0\n",
       "density                 0\n",
       "pH                      0\n",
       "sulphates               0\n",
       "alcohol                 0\n",
       "quality                 0\n",
       "dtype: int64"
      ]
     },
     "execution_count": 6,
     "metadata": {},
     "output_type": "execute_result"
    }
   ],
   "source": [
    "# Check missing value in data \n",
    "df.isnull().sum()"
   ]
  },
  {
   "cell_type": "markdown",
   "metadata": {},
   "source": [
    "There is no missing value in data"
   ]
  },
  {
   "cell_type": "code",
   "execution_count": 7,
   "metadata": {},
   "outputs": [],
   "source": [
    "# make copy of the original dataset \n",
    "data=pd.DataFrame.copy(df)"
   ]
  },
  {
   "cell_type": "code",
   "execution_count": 8,
   "metadata": {},
   "outputs": [],
   "source": [
    "# Create x and y\n",
    "x=data.drop(columns='quality')\n",
    "y=data['quality']"
   ]
  },
  {
   "cell_type": "code",
   "execution_count": 9,
   "metadata": {},
   "outputs": [
    {
     "data": {
      "text/html": [
       "<div>\n",
       "<style scoped>\n",
       "    .dataframe tbody tr th:only-of-type {\n",
       "        vertical-align: middle;\n",
       "    }\n",
       "\n",
       "    .dataframe tbody tr th {\n",
       "        vertical-align: top;\n",
       "    }\n",
       "\n",
       "    .dataframe thead th {\n",
       "        text-align: right;\n",
       "    }\n",
       "</style>\n",
       "<table border=\"1\" class=\"dataframe\">\n",
       "  <thead>\n",
       "    <tr style=\"text-align: right;\">\n",
       "      <th></th>\n",
       "      <th>fixed acidity</th>\n",
       "      <th>volatile acidity</th>\n",
       "      <th>citric acid</th>\n",
       "      <th>residual sugar</th>\n",
       "      <th>chlorides</th>\n",
       "      <th>free sulfur dioxide</th>\n",
       "      <th>total sulfur dioxide</th>\n",
       "      <th>density</th>\n",
       "      <th>pH</th>\n",
       "      <th>sulphates</th>\n",
       "      <th>alcohol</th>\n",
       "    </tr>\n",
       "  </thead>\n",
       "  <tbody>\n",
       "    <tr>\n",
       "      <th>0</th>\n",
       "      <td>7.4</td>\n",
       "      <td>0.70</td>\n",
       "      <td>0.00</td>\n",
       "      <td>1.9</td>\n",
       "      <td>0.076</td>\n",
       "      <td>11.0</td>\n",
       "      <td>34.0</td>\n",
       "      <td>0.9978</td>\n",
       "      <td>3.51</td>\n",
       "      <td>0.56</td>\n",
       "      <td>9.4</td>\n",
       "    </tr>\n",
       "    <tr>\n",
       "      <th>1</th>\n",
       "      <td>7.8</td>\n",
       "      <td>0.88</td>\n",
       "      <td>0.00</td>\n",
       "      <td>2.6</td>\n",
       "      <td>0.098</td>\n",
       "      <td>25.0</td>\n",
       "      <td>67.0</td>\n",
       "      <td>0.9968</td>\n",
       "      <td>3.20</td>\n",
       "      <td>0.68</td>\n",
       "      <td>9.8</td>\n",
       "    </tr>\n",
       "    <tr>\n",
       "      <th>2</th>\n",
       "      <td>7.8</td>\n",
       "      <td>0.76</td>\n",
       "      <td>0.04</td>\n",
       "      <td>2.3</td>\n",
       "      <td>0.092</td>\n",
       "      <td>15.0</td>\n",
       "      <td>54.0</td>\n",
       "      <td>0.9970</td>\n",
       "      <td>3.26</td>\n",
       "      <td>0.65</td>\n",
       "      <td>9.8</td>\n",
       "    </tr>\n",
       "    <tr>\n",
       "      <th>3</th>\n",
       "      <td>11.2</td>\n",
       "      <td>0.28</td>\n",
       "      <td>0.56</td>\n",
       "      <td>1.9</td>\n",
       "      <td>0.075</td>\n",
       "      <td>17.0</td>\n",
       "      <td>60.0</td>\n",
       "      <td>0.9980</td>\n",
       "      <td>3.16</td>\n",
       "      <td>0.58</td>\n",
       "      <td>9.8</td>\n",
       "    </tr>\n",
       "    <tr>\n",
       "      <th>4</th>\n",
       "      <td>7.4</td>\n",
       "      <td>0.70</td>\n",
       "      <td>0.00</td>\n",
       "      <td>1.9</td>\n",
       "      <td>0.076</td>\n",
       "      <td>11.0</td>\n",
       "      <td>34.0</td>\n",
       "      <td>0.9978</td>\n",
       "      <td>3.51</td>\n",
       "      <td>0.56</td>\n",
       "      <td>9.4</td>\n",
       "    </tr>\n",
       "  </tbody>\n",
       "</table>\n",
       "</div>"
      ],
      "text/plain": [
       "   fixed acidity  volatile acidity  citric acid  residual sugar  chlorides  \\\n",
       "0            7.4              0.70         0.00             1.9      0.076   \n",
       "1            7.8              0.88         0.00             2.6      0.098   \n",
       "2            7.8              0.76         0.04             2.3      0.092   \n",
       "3           11.2              0.28         0.56             1.9      0.075   \n",
       "4            7.4              0.70         0.00             1.9      0.076   \n",
       "\n",
       "   free sulfur dioxide  total sulfur dioxide  density    pH  sulphates  \\\n",
       "0                 11.0                  34.0   0.9978  3.51       0.56   \n",
       "1                 25.0                  67.0   0.9968  3.20       0.68   \n",
       "2                 15.0                  54.0   0.9970  3.26       0.65   \n",
       "3                 17.0                  60.0   0.9980  3.16       0.58   \n",
       "4                 11.0                  34.0   0.9978  3.51       0.56   \n",
       "\n",
       "   alcohol  \n",
       "0      9.4  \n",
       "1      9.8  \n",
       "2      9.8  \n",
       "3      9.8  \n",
       "4      9.4  "
      ]
     },
     "execution_count": 9,
     "metadata": {},
     "output_type": "execute_result"
    }
   ],
   "source": [
    "x.head()"
   ]
  },
  {
   "cell_type": "code",
   "execution_count": 10,
   "metadata": {},
   "outputs": [
    {
     "data": {
      "text/plain": [
       "0    5\n",
       "1    5\n",
       "2    5\n",
       "3    6\n",
       "4    5\n",
       "Name: quality, dtype: int64"
      ]
     },
     "execution_count": 10,
     "metadata": {},
     "output_type": "execute_result"
    }
   ],
   "source": [
    "y.head()"
   ]
  },
  {
   "cell_type": "code",
   "execution_count": 11,
   "metadata": {},
   "outputs": [],
   "source": [
    "# Splitting the data into train and test \n",
    "from sklearn.model_selection import train_test_split\n",
    "x_train,x_test,y_train,y_test=train_test_split(x,y,test_size=0.20,random_state=10)"
   ]
  },
  {
   "cell_type": "code",
   "execution_count": 12,
   "metadata": {},
   "outputs": [
    {
     "data": {
      "text/plain": [
       "DecisionTreeClassifier(class_weight=None, criterion='gini', max_depth=None,\n",
       "                       max_features=None, max_leaf_nodes=None,\n",
       "                       min_impurity_decrease=0.0, min_impurity_split=None,\n",
       "                       min_samples_leaf=1, min_samples_split=2,\n",
       "                       min_weight_fraction_leaf=0.0, presort=False,\n",
       "                       random_state=None, splitter='best')"
      ]
     },
     "execution_count": 12,
     "metadata": {},
     "output_type": "execute_result"
    }
   ],
   "source": [
    "# build the model\n",
    "from sklearn.tree import DecisionTreeClassifier\n",
    "clf=DecisionTreeClassifier()\n",
    "clf.fit(x_train,y_train)    "
   ]
  },
  {
   "cell_type": "code",
   "execution_count": 13,
   "metadata": {},
   "outputs": [
    {
     "name": "stdout",
     "output_type": "stream",
     "text": [
      "[6 5 6 6 6 7 4 6 3 5 7 3 5 5 6 5 5 6 6 5 5 7 7 5 6 6 5 6 6 5 6 6 6 7 5 5 7\n",
      " 5 6 5 6 6 5 6 5 4 6 7 7 7 5 7 6 7 6 7 6 5 5 5 6 5 7 5 6 5 6 6 6 6 6 5 5 5\n",
      " 5 5 5 7 5 7 7 5 7 5 6 5 6 5 5 5 7 5 7 6 5 6 5 5 7 5 7 5 5 6 5 6 6 6 6 5 5\n",
      " 7 7 5 6 5 5 5 6 6 5 5 6 5 5 4 5 5 5 5 6 6 6 4 6 7 7 5 5 7 6 6 7 5 6 6 7 5\n",
      " 6 6 6 6 6 7 5 5 5 3 5 7 6 6 7 5 5 4 6 7 7 5 5 5 6 6 5 5 6 6 5 8 5 6 6 5 5\n",
      " 5 5 6 5 5 5 4 6 7 6 5 3 5 7 6 6 5 5 6 5 5 6 5 5 7 6 5 4 5 5 6 5 5 5 5 5 6\n",
      " 6 5 6 5 6 5 5 5 4 6 6 6 5 6 5 5 5 5 6 5 5 6 6 5 5 4 5 5 5 6 5 5 5 6 7 7 7\n",
      " 7 5 6 6 5 5 5 6 6 6 6 5 6 5 6 4 6 5 5 6 5 6 6 6 7 4 6 6 6 5 5 7 5 5 7 5 7\n",
      " 6 5 5 6 6 6 6 6 6 7 6 6 6 5 5 6 6 7 6 7 5 7 5 5]\n"
     ]
    }
   ],
   "source": [
    "#predict the model\n",
    "y_pred=clf.predict(x_test)\n",
    "print(y_pred)"
   ]
  },
  {
   "cell_type": "code",
   "execution_count": 14,
   "metadata": {},
   "outputs": [
    {
     "name": "stdout",
     "output_type": "stream",
     "text": [
      "[(5, 6), (5, 5), (6, 6), (6, 6), (5, 6), (6, 7), (7, 4), (6, 6), (5, 3), (5, 5), (7, 7), (4, 3), (5, 5), (5, 5), (6, 6), (5, 5), (6, 5), (6, 6), (6, 6), (5, 5), (5, 5), (6, 7), (5, 7), (5, 5), (5, 6), (5, 6), (5, 5), (6, 6), (6, 6), (6, 5), (5, 6), (5, 6), (7, 6), (8, 7), (5, 5), (5, 5), (8, 7), (6, 5), (6, 6), (6, 5), (6, 6), (7, 6), (5, 5), (7, 6), (5, 5), (7, 4), (6, 6), (7, 7), (6, 7), (5, 7), (6, 5), (7, 7), (6, 6), (6, 7), (6, 6), (6, 7), (6, 6), (5, 5), (5, 5), (5, 5), (5, 6), (5, 5), (7, 7), (6, 5), (6, 6), (5, 5), (6, 6), (6, 6), (5, 6), (6, 6), (6, 6), (5, 5), (5, 5), (6, 5), (6, 5), (5, 5), (5, 5), (7, 7), (5, 5), (7, 7), (7, 7), (5, 5), (6, 7), (5, 5), (6, 6), (4, 5), (4, 6), (5, 5), (5, 5), (5, 5), (6, 7), (5, 5), (7, 7), (6, 6), (5, 5), (4, 6), (5, 5), (4, 5), (5, 7), (6, 5), (7, 7), (5, 5), (6, 5), (6, 6), (6, 5), (5, 6), (5, 6), (6, 6), (6, 6), (5, 5), (5, 5), (6, 7), (7, 7), (5, 5), (5, 6), (5, 5), (5, 5), (5, 5), (8, 6), (5, 6), (5, 5), (5, 5), (6, 6), (5, 5), (5, 5), (6, 4), (5, 5), (5, 5), (6, 5), (5, 5), (6, 6), (5, 6), (6, 6), (6, 4), (5, 6), (6, 7), (6, 7), (5, 5), (5, 5), (5, 7), (6, 6), (6, 6), (6, 7), (6, 5), (5, 6), (6, 6), (6, 7), (5, 5), (6, 6), (6, 6), (5, 6), (6, 6), (7, 6), (7, 7), (6, 5), (4, 5), (5, 5), (5, 3), (7, 5), (8, 7), (6, 6), (7, 6), (6, 7), (5, 5), (5, 5), (6, 4), (8, 6), (7, 7), (6, 7), (5, 5), (5, 5), (7, 5), (6, 6), (8, 6), (5, 5), (5, 5), (5, 6), (5, 6), (5, 5), (6, 8), (7, 5), (5, 6), (6, 6), (6, 5), (5, 5), (5, 5), (6, 5), (7, 6), (5, 5), (5, 5), (5, 5), (4, 4), (6, 6), (7, 7), (6, 6), (5, 5), (7, 3), (5, 5), (6, 7), (6, 6), (6, 6), (6, 5), (6, 5), (6, 6), (5, 5), (6, 5), (5, 6), (5, 5), (4, 5), (8, 7), (5, 6), (5, 5), (5, 4), (5, 5), (5, 5), (6, 6), (6, 5), (5, 5), (6, 5), (5, 5), (5, 5), (7, 6), (6, 6), (5, 5), (7, 6), (5, 5), (6, 6), (5, 5), (5, 5), (5, 5), (3, 4), (6, 6), (6, 6), (6, 6), (5, 5), (6, 6), (6, 5), (5, 5), (5, 5), (5, 5), (6, 6), (5, 5), (6, 5), (6, 6), (6, 6), (5, 5), (6, 5), (6, 4), (7, 5), (7, 5), (5, 5), (6, 6), (5, 5), (5, 5), (6, 5), (6, 6), (7, 7), (7, 7), (7, 7), (6, 7), (5, 5), (5, 6), (6, 6), (6, 5), (6, 5), (6, 5), (6, 6), (6, 6), (6, 6), (6, 6), (5, 5), (7, 6), (6, 5), (6, 6), (5, 4), (6, 6), (5, 5), (5, 5), (6, 6), (5, 5), (7, 6), (7, 6), (6, 6), (6, 7), (3, 4), (4, 6), (5, 6), (6, 6), (5, 5), (6, 5), (6, 7), (5, 5), (6, 5), (6, 7), (5, 5), (5, 7), (6, 6), (7, 5), (6, 5), (6, 6), (6, 6), (8, 6), (7, 6), (7, 6), (6, 6), (7, 7), (5, 6), (6, 6), (5, 6), (5, 5), (5, 5), (6, 6), (6, 6), (5, 7), (6, 6), (7, 7), (7, 5), (7, 7), (5, 5), (5, 5)]\n"
     ]
    }
   ],
   "source": [
    "# make list of zip of actual output with predicted output\n",
    "print(list(zip(y_test,y_pred)))"
   ]
  },
  {
   "cell_type": "markdown",
   "metadata": {},
   "source": [
    "# Check accuracy of the model"
   ]
  },
  {
   "cell_type": "code",
   "execution_count": 15,
   "metadata": {},
   "outputs": [
    {
     "name": "stdout",
     "output_type": "stream",
     "text": [
      "[[ 0  2  0  0  0  0]\n",
      " [ 1  1  4  3  0  0]\n",
      " [ 2  2 97 25  6  0]\n",
      " [ 0  4 32 71 19  1]\n",
      " [ 1  2  7 13 19  0]\n",
      " [ 0  0  0  4  4  0]]\n",
      "classification Report:\n",
      "              precision    recall  f1-score   support\n",
      "\n",
      "           3       0.00      0.00      0.00         2\n",
      "           4       0.09      0.11      0.10         9\n",
      "           5       0.69      0.73      0.71       132\n",
      "           6       0.61      0.56      0.58       127\n",
      "           7       0.40      0.45      0.42        42\n",
      "           8       0.00      0.00      0.00         8\n",
      "\n",
      "    accuracy                           0.59       320\n",
      "   macro avg       0.30      0.31      0.30       320\n",
      "weighted avg       0.58      0.59      0.58       320\n",
      "\n",
      "0.5875\n"
     ]
    }
   ],
   "source": [
    "from sklearn.metrics import confusion_matrix,accuracy_score,classification_report\n",
    "\n",
    "cfm=confusion_matrix(y_test,y_pred)\n",
    "print(cfm)\n",
    "\n",
    "print('classification Report:')\n",
    "print(classification_report(y_test,y_pred))\n",
    "\n",
    "acc=accuracy_score(y_test,y_pred)\n",
    "print(acc)"
   ]
  },
  {
   "cell_type": "code",
   "execution_count": 16,
   "metadata": {},
   "outputs": [
    {
     "name": "stdout",
     "output_type": "stream",
     "text": [
      "[('fixed acidity', 0.05698749591846014), ('volatile acidity', 0.11435512120340117), ('citric acid', 0.048596906874621315), ('residual sugar', 0.07144242745346399), ('chlorides', 0.08894643907193453), ('free sulfur dioxide', 0.04142907290927111), ('total sulfur dioxide', 0.11017565168711255), ('density', 0.0801701873495723), ('pH', 0.10974189897725921), ('sulphates', 0.11775353874851888), ('alcohol', 0.16040125980638498)]\n"
     ]
    }
   ],
   "source": [
    "print(list(zip(data.columns,clf.feature_importances_ )))"
   ]
  },
  {
   "cell_type": "code",
   "execution_count": 17,
   "metadata": {},
   "outputs": [
    {
     "data": {
      "text/plain": [
       "['fixed acidity',\n",
       " 'volatile acidity',\n",
       " 'citric acid',\n",
       " 'residual sugar',\n",
       " 'chlorides',\n",
       " 'free sulfur dioxide',\n",
       " 'total sulfur dioxide',\n",
       " 'density',\n",
       " 'pH',\n",
       " 'sulphates',\n",
       " 'alcohol']"
      ]
     },
     "execution_count": 17,
     "metadata": {},
     "output_type": "execute_result"
    }
   ],
   "source": [
    "feature_name=list(data.columns[:-1])\n",
    "class_name = list(y_train.unique())\n",
    "feature_name"
   ]
  },
  {
   "cell_type": "code",
   "execution_count": 18,
   "metadata": {},
   "outputs": [],
   "source": [
    "# Create file and uplod the code on webgraphviz.com to plot the decision tree\n",
    "from sklearn import tree\n",
    "with open (\"wine_quality.txt\",\"w\") as f:\n",
    "    f=tree.export_graphviz(clf,feature_names=data.columns[:-1],out_file=f)"
   ]
  },
  {
   "cell_type": "markdown",
   "metadata": {},
   "source": [
    "# Running ExtraTree Classfier model"
   ]
  },
  {
   "cell_type": "code",
   "execution_count": 19,
   "metadata": {},
   "outputs": [
    {
     "data": {
      "text/plain": [
       "ExtraTreesClassifier(bootstrap=False, class_weight=None, criterion='gini',\n",
       "                     max_depth=None, max_features='auto', max_leaf_nodes=None,\n",
       "                     min_impurity_decrease=0.0, min_impurity_split=None,\n",
       "                     min_samples_leaf=1, min_samples_split=2,\n",
       "                     min_weight_fraction_leaf=0.0, n_estimators=10, n_jobs=None,\n",
       "                     oob_score=False, random_state=10, verbose=0,\n",
       "                     warm_start=False)"
      ]
     },
     "execution_count": 19,
     "metadata": {},
     "output_type": "execute_result"
    }
   ],
   "source": [
    "# predicting using the bagging Classifier \n",
    "from sklearn.ensemble import ExtraTreesClassifier\n",
    "bagging_model=ExtraTreesClassifier(n_estimators=10,random_state=10)\n",
    "bagging_model.fit(x_train,y_train)\n",
    "\n"
   ]
  },
  {
   "cell_type": "code",
   "execution_count": 20,
   "metadata": {},
   "outputs": [],
   "source": [
    "#Predict the model \n",
    "y_pred=bagging_model.predict(x_test)"
   ]
  },
  {
   "cell_type": "code",
   "execution_count": 21,
   "metadata": {},
   "outputs": [
    {
     "name": "stdout",
     "output_type": "stream",
     "text": [
      "[[  0   0   2   0   0   0]\n",
      " [  0   0   5   4   0   0]\n",
      " [  0   0 112  18   2   0]\n",
      " [  0   1  38  78  10   0]\n",
      " [  0   0   4  21  17   0]\n",
      " [  0   0   0   5   3   0]]\n",
      "classification Report:\n",
      "              precision    recall  f1-score   support\n",
      "\n",
      "           3       0.00      0.00      0.00         2\n",
      "           4       0.00      0.00      0.00         9\n",
      "           5       0.70      0.85      0.76       132\n",
      "           6       0.62      0.61      0.62       127\n",
      "           7       0.53      0.40      0.46        42\n",
      "           8       0.00      0.00      0.00         8\n",
      "\n",
      "    accuracy                           0.65       320\n",
      "   macro avg       0.31      0.31      0.31       320\n",
      "weighted avg       0.60      0.65      0.62       320\n",
      "\n",
      "0.646875\n"
     ]
    }
   ],
   "source": [
    "#check accuracy score of the model\n",
    "from sklearn.metrics import confusion_matrix,accuracy_score,classification_report\n",
    "cfm=confusion_matrix(y_test,y_pred)\n",
    "print(cfm)\n",
    "\n",
    "print(\"classification Report:\")\n",
    "print(classification_report(y_test,y_pred))\n",
    "\n",
    "acc=accuracy_score(y_test,y_pred)\n",
    "print(acc)"
   ]
  },
  {
   "cell_type": "code",
   "execution_count": 22,
   "metadata": {},
   "outputs": [],
   "source": [
    "#predicting using the random_Forest_classifier \n",
    "from sklearn.ensemble import RandomForestClassifier\n",
    "model_randomForest=RandomForestClassifier(n_estimators=101,random_state=10)\n",
    "model_randomForest.fit(x_train,y_train)\n",
    "\n",
    "#predict the model\n",
    "y_pred=model_randomForest.predict(x_test) "
   ]
  },
  {
   "cell_type": "code",
   "execution_count": 23,
   "metadata": {},
   "outputs": [
    {
     "name": "stdout",
     "output_type": "stream",
     "text": [
      "[[  0   1   1   0   0   0]\n",
      " [  0   0   6   3   0   0]\n",
      " [  0   0 105  25   2   0]\n",
      " [  0   1  25  95   6   0]\n",
      " [  0   0   2  20  20   0]\n",
      " [  0   0   0   4   4   0]]\n",
      "classification Report:\n",
      "              precision    recall  f1-score   support\n",
      "\n",
      "           3       0.00      0.00      0.00         2\n",
      "           4       0.00      0.00      0.00         9\n",
      "           5       0.76      0.80      0.77       132\n",
      "           6       0.65      0.75      0.69       127\n",
      "           7       0.62      0.48      0.54        42\n",
      "           8       0.00      0.00      0.00         8\n",
      "\n",
      "    accuracy                           0.69       320\n",
      "   macro avg       0.34      0.34      0.33       320\n",
      "weighted avg       0.65      0.69      0.67       320\n",
      "\n",
      "0.6875\n"
     ]
    }
   ],
   "source": [
    "#check accuracy score of the model\n",
    "from sklearn.metrics import confusion_matrix,accuracy_score,classification_report\n",
    "cfm=confusion_matrix(y_test,y_pred)\n",
    "print(cfm)\n",
    "\n",
    "print(\"classification Report:\")\n",
    "print(classification_report(y_test,y_pred))\n",
    "\n",
    "acc=accuracy_score(y_test,y_pred)\n",
    "print(acc)"
   ]
  },
  {
   "cell_type": "code",
   "execution_count": 24,
   "metadata": {},
   "outputs": [],
   "source": [
    "#Predicting using adaboost classifier \n",
    "from sklearn.ensemble import AdaBoostClassifier\n",
    "model_adaBoost=AdaBoostClassifier(base_estimator=DecisionTreeClassifier(random_state=10),\n",
    "                                  n_estimators=10,random_state=10)\n",
    "model_adaBoost.fit(x_train,y_train)\n",
    "y_pred=model_adaBoost.predict(x_test)"
   ]
  },
  {
   "cell_type": "code",
   "execution_count": 25,
   "metadata": {},
   "outputs": [
    {
     "name": "stdout",
     "output_type": "stream",
     "text": [
      "[[  0   2   0   0   0   0]\n",
      " [  1   1   5   2   0   0]\n",
      " [  1   4 102  20   5   0]\n",
      " [  0   3  32  75  14   3]\n",
      " [  0   2   7  13  20   0]\n",
      " [  0   0   0   4   3   1]]\n",
      "classification Report:\n",
      "              precision    recall  f1-score   support\n",
      "\n",
      "           3       0.00      0.00      0.00         2\n",
      "           4       0.08      0.11      0.10         9\n",
      "           5       0.70      0.77      0.73       132\n",
      "           6       0.66      0.59      0.62       127\n",
      "           7       0.48      0.48      0.48        42\n",
      "           8       0.25      0.12      0.17         8\n",
      "\n",
      "    accuracy                           0.62       320\n",
      "   macro avg       0.36      0.35      0.35       320\n",
      "weighted avg       0.62      0.62      0.62       320\n",
      "\n",
      "0.621875\n"
     ]
    }
   ],
   "source": [
    "#check accuracy score of the model\n",
    "from sklearn.metrics import confusion_matrix,accuracy_score,classification_report\n",
    "cfm=confusion_matrix(y_test,y_pred)\n",
    "print(cfm)\n",
    "\n",
    "print(\"classification Report:\")\n",
    "print(classification_report(y_test,y_pred))\n",
    "\n",
    "acc=accuracy_score(y_test,y_pred)\n",
    "print(acc)"
   ]
  },
  {
   "cell_type": "code",
   "execution_count": 26,
   "metadata": {},
   "outputs": [],
   "source": [
    "#Predicting using Gardient Boosting Classifier\n",
    "from sklearn.ensemble import GradientBoostingClassifier\n",
    "model_Gradientboosting=GradientBoostingClassifier(n_estimators=10,random_state=10)\n",
    "model_Gradientboosting.fit(x_train,y_train)\n",
    "\n",
    "#predict the model \n",
    "y_pred=model_Gradientboosting.predict(x_test)"
   ]
  },
  {
   "cell_type": "code",
   "execution_count": 27,
   "metadata": {},
   "outputs": [
    {
     "name": "stdout",
     "output_type": "stream",
     "text": [
      "[[ 0  0  1  1  0  0]\n",
      " [ 0  0  5  4  0  0]\n",
      " [ 2  1 91 38  0  0]\n",
      " [ 2  1 37 84  3  0]\n",
      " [ 0  0  3 31  8  0]\n",
      " [ 0  0  0  6  2  0]]\n",
      "Classification Report :\n",
      "              precision    recall  f1-score   support\n",
      "\n",
      "           3       0.00      0.00      0.00         2\n",
      "           4       0.00      0.00      0.00         9\n",
      "           5       0.66      0.69      0.68       132\n",
      "           6       0.51      0.66      0.58       127\n",
      "           7       0.62      0.19      0.29        42\n",
      "           8       0.00      0.00      0.00         8\n",
      "\n",
      "    accuracy                           0.57       320\n",
      "   macro avg       0.30      0.26      0.26       320\n",
      "weighted avg       0.56      0.57      0.55       320\n",
      "\n",
      "0.571875\n"
     ]
    }
   ],
   "source": [
    "#check accuracy of the model\n",
    "from sklearn.metrics import confusion_matrix ,accuracy_score,classification_report\n",
    "# Confusion matrix\n",
    "cfm=confusion_matrix(y_test,y_pred)\n",
    "print(cfm)\n",
    "\n",
    "print(\"Classification Report :\")\n",
    "print(classification_report(y_test,y_pred))\n",
    "\n",
    "acc=accuracy_score(y_test,y_pred)\n",
    "print(acc)"
   ]
  },
  {
   "cell_type": "markdown",
   "metadata": {},
   "source": [
    "# Ensemble Techinque"
   ]
  },
  {
   "cell_type": "code",
   "execution_count": 28,
   "metadata": {},
   "outputs": [],
   "source": [
    "#Scaling the data \n",
    "from sklearn.preprocessing import StandardScaler\n",
    "scaler=StandardScaler()\n",
    "scaler.fit(x)\n",
    "x=scaler.transform(x)"
   ]
  },
  {
   "cell_type": "code",
   "execution_count": 29,
   "metadata": {},
   "outputs": [],
   "source": [
    "from sklearn.linear_model import LogisticRegression\n",
    "from sklearn.tree import DecisionTreeClassifier\n",
    "from sklearn.svm import SVC\n",
    "from sklearn.ensemble import VotingClassifier\n",
    "from sklearn.neighbors import KNeighborsClassifier\n",
    "from sklearn.ensemble import GradientBoostingClassifier\n",
    "from sklearn.ensemble import AdaBoostClassifier\n",
    "from sklearn.ensemble import RandomForestClassifier\n",
    "from sklearn.ensemble import ExtraTreesClassifier"
   ]
  },
  {
   "cell_type": "code",
   "execution_count": 30,
   "metadata": {},
   "outputs": [
    {
     "name": "stdout",
     "output_type": "stream",
     "text": [
      "[6 5 6 6 6 6 6 6 3 5 7 5 5 5 6 5 6 6 6 5 5 6 6 5 5 6 5 6 6 5 5 5 6 7 5 5 7\n",
      " 5 6 5 6 6 5 6 5 6 5 7 7 5 6 7 6 7 6 6 6 5 5 5 6 5 7 6 6 5 6 6 5 6 6 5 5 5\n",
      " 5 5 5 7 5 7 7 5 6 5 6 6 6 5 5 5 6 5 7 6 5 4 5 5 6 6 7 5 5 6 6 6 5 6 6 5 5\n",
      " 6 7 5 5 5 5 5 6 6 5 5 6 5 5 4 5 5 5 5 6 5 5 4 6 6 6 5 5 7 6 6 5 5 6 6 6 5\n",
      " 6 6 5 6 6 7 5 5 5 5 6 7 6 6 6 5 6 6 6 7 6 5 5 6 6 6 6 5 5 5 5 6 6 6 6 5 5\n",
      " 5 5 6 5 5 5 5 6 7 6 5 5 5 7 6 6 5 5 6 5 5 5 5 5 7 6 6 4 5 5 6 6 5 5 5 5 6\n",
      " 5 5 6 5 6 5 5 5 5 6 6 6 5 6 5 5 5 5 6 5 5 6 6 5 5 6 5 6 5 6 5 5 5 6 7 7 7\n",
      " 6 5 5 6 5 5 5 6 6 6 6 5 6 6 6 5 6 5 5 6 5 6 6 6 7 4 5 5 6 5 6 6 5 6 6 5 7\n",
      " 6 6 5 6 6 6 6 6 6 7 5 6 6 5 5 5 6 6 6 6 5 7 5 5]\n"
     ]
    }
   ],
   "source": [
    "# Create the submodels:\n",
    "estimator=[]\n",
    "model1=LogisticRegression()\n",
    "estimator.append(('log',model1))\n",
    "model2=DecisionTreeClassifier(criterion='gini',random_state=10)\n",
    "estimator.append(('cart',model2))\n",
    "#model3=SVC(kernel='rbf',C=50,gamma=0.1)\n",
    "#estimator.append(('svm',model3))\n",
    "#model4=KNeighborsClassifier(n_neighbors=8,metric='euclidean')\n",
    "#estimator.append(('knn',model4))\n",
    "model5=ExtraTreesClassifier(n_estimators=10,random_state=10)\n",
    "estimator.append(('extratree',model5))\n",
    "model6=AdaBoostClassifier(base_estimator=DecisionTreeClassifier(random_state=10),\n",
    "                                  n_estimators=10,random_state=10)\n",
    "estimator.append(('Ada',model6))\n",
    "model7=RandomForestClassifier(n_estimators=101,random_state=10)\n",
    "estimator.append(('random',model7))\n",
    "#model8=GradientBoostingClassifier(n_estimators=10,random_state=10)\n",
    "#estimator.append(('Gradient',model8))\n",
    "\n",
    "\n",
    "\n",
    "\n",
    "#create the ensemble model\n",
    "ensemble=VotingClassifier(estimator)\n",
    "ensemble.fit(x_train,y_train)\n",
    "y_p=ensemble.predict(x_test)\n",
    "print(y_p)"
   ]
  },
  {
   "cell_type": "code",
   "execution_count": 31,
   "metadata": {},
   "outputs": [
    {
     "name": "stdout",
     "output_type": "stream",
     "text": [
      "[[  0   1   1   0   0   0]\n",
      " [  0   1   6   2   0   0]\n",
      " [  1   1 111  17   2   0]\n",
      " [  0   2  28  93   4   0]\n",
      " [  0   0   3  21  18   0]\n",
      " [  0   0   0   4   4   0]]\n",
      "Classification Report:\n",
      "              precision    recall  f1-score   support\n",
      "\n",
      "           3       0.00      0.00      0.00         2\n",
      "           4       0.20      0.11      0.14         9\n",
      "           5       0.74      0.84      0.79       132\n",
      "           6       0.68      0.73      0.70       127\n",
      "           7       0.64      0.43      0.51        42\n",
      "           8       0.00      0.00      0.00         8\n",
      "\n",
      "    accuracy                           0.70       320\n",
      "   macro avg       0.38      0.35      0.36       320\n",
      "weighted avg       0.67      0.70      0.68       320\n",
      "\n",
      "0.696875\n"
     ]
    }
   ],
   "source": [
    "#check accuracy of the model\n",
    "from sklearn.metrics import confusion_matrix,accuracy_score,classification_report\n",
    "cfm=confusion_matrix(y_test,y_p)\n",
    "print(cfm)\n",
    "\n",
    "print(\"Classification Report:\")\n",
    "print(classification_report(y_test,y_p))\n",
    "\n",
    "acc=accuracy_score(y_test,y_p)\n",
    "print(acc)"
   ]
  },
  {
   "cell_type": "code",
   "execution_count": 32,
   "metadata": {},
   "outputs": [],
   "source": [
    "# save model into pickle format\n",
    "import pickle\n",
    "with open('WineModelForPrediction.sav','wb')as f:\n",
    "    pickle.dump(clf,f)\n",
    "    \n",
    "with open('BaggingModelForPrediction.sav','wb')as f:\n",
    "    pickle.dump(bagging_model,f) \n",
    "    \n",
    "with open('RandomForestModelForPrediction.sav','wb')as f:\n",
    "    pickle.dump(model_randomForest,f)  \n",
    "    \n",
    "with open('AdaBoostlModelForPrediction.sav','wb')as f:\n",
    "    pickle.dump(model_adaBoost,f) \n",
    "\n",
    "with open('GradientboostingModelForPrediction.sav','wb')as f:\n",
    "    pickle.dump(model_Gradientboosting,f) \n",
    "    \n",
    "with open('EnsembleModelForPrediction.sav','wb')as f:\n",
    "    pickle.dump(ensemble,f)    \n",
    " \n",
    "    \n",
    "with open('WinestandardScaler.sav','wb')as f :\n",
    "    pickle.dump(scaler,f)"
   ]
  },
  {
   "cell_type": "code",
   "execution_count": 33,
   "metadata": {},
   "outputs": [
    {
     "data": {
      "text/plain": [
       "array([6], dtype=int64)"
      ]
     },
     "execution_count": 33,
     "metadata": {},
     "output_type": "execute_result"
    }
   ],
   "source": [
    "y_pred=clf.predict([[11.2,0.28,0.56,1.9,0.075,17,60,0.998,3.16,0.58,9.8]])\n",
    "y_pred"
   ]
  },
  {
   "cell_type": "code",
   "execution_count": 34,
   "metadata": {},
   "outputs": [
    {
     "data": {
      "text/plain": [
       "array([6], dtype=int64)"
      ]
     },
     "execution_count": 34,
     "metadata": {},
     "output_type": "execute_result"
    }
   ],
   "source": [
    "y_pred=bagging_model.predict([[11.2,0.28,0.56,1.9,0.075,17,60,0.998,3.16,0.58,9.8]])\n",
    "y_pred"
   ]
  },
  {
   "cell_type": "code",
   "execution_count": 35,
   "metadata": {},
   "outputs": [
    {
     "data": {
      "text/plain": [
       "array([6], dtype=int64)"
      ]
     },
     "execution_count": 35,
     "metadata": {},
     "output_type": "execute_result"
    }
   ],
   "source": [
    "y_pred=model_randomForest.predict([[11.2,0.28,0.56,1.9,0.075,17,60,0.998,3.16,0.58,9.8]])\n",
    "y_pred"
   ]
  },
  {
   "cell_type": "code",
   "execution_count": 36,
   "metadata": {},
   "outputs": [
    {
     "data": {
      "text/plain": [
       "array([5], dtype=int64)"
      ]
     },
     "execution_count": 36,
     "metadata": {},
     "output_type": "execute_result"
    }
   ],
   "source": [
    "y_pred=model_adaBoost.predict([[8.5,0.28,0.56,1.8,0.092,35,103,0.9969,3.3,0.75,10.5]])\n",
    "y_pred"
   ]
  },
  {
   "cell_type": "code",
   "execution_count": 37,
   "metadata": {},
   "outputs": [
    {
     "data": {
      "text/plain": [
       "array([5], dtype=int64)"
      ]
     },
     "execution_count": 37,
     "metadata": {},
     "output_type": "execute_result"
    }
   ],
   "source": [
    "y_pred=model_Gradientboosting.predict([[8.5,0.28,0.56,1.8,0.092,35,103,0.9969,3.3,0.75,10.5]])\n",
    "y_pred"
   ]
  },
  {
   "cell_type": "code",
   "execution_count": 38,
   "metadata": {},
   "outputs": [
    {
     "data": {
      "text/plain": [
       "array([6], dtype=int64)"
      ]
     },
     "execution_count": 38,
     "metadata": {},
     "output_type": "execute_result"
    }
   ],
   "source": [
    "y_pred=ensemble.predict([[11.2,0.28,0.56,1.9,0.075,17,60,0.998,3.16,0.58,9.8]])\n",
    "y_pred"
   ]
  },
  {
   "cell_type": "code",
   "execution_count": null,
   "metadata": {},
   "outputs": [],
   "source": []
  }
 ],
 "metadata": {
  "kernelspec": {
   "display_name": "Python 3",
   "language": "python",
   "name": "python3"
  },
  "language_info": {
   "codemirror_mode": {
    "name": "ipython",
    "version": 3
   },
   "file_extension": ".py",
   "mimetype": "text/x-python",
   "name": "python",
   "nbconvert_exporter": "python",
   "pygments_lexer": "ipython3",
   "version": "3.7.6"
  }
 },
 "nbformat": 4,
 "nbformat_minor": 4
}
